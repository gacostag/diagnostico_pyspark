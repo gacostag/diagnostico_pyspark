{
  "nbformat": 4,
  "nbformat_minor": 0,
  "metadata": {
    "colab": {
      "name": "Examen_Diagnostico_PySpark_Solucion.ipynb",
      "provenance": [],
      "collapsed_sections": []
    },
    "kernelspec": {
      "name": "python3",
      "display_name": "Python 3"
    },
    "language_info": {
      "name": "python"
    }
  },
  "cells": [
    {
      "cell_type": "code",
      "metadata": {
        "colab": {
          "base_uri": "https://localhost:8080/"
        },
        "id": "MOAjeCsxlybm",
        "outputId": "7e2ada2c-e5da-444f-88fa-807763e82fa0"
      },
      "source": [
        "!pip install pyspark"
      ],
      "execution_count": 1,
      "outputs": [
        {
          "output_type": "stream",
          "name": "stdout",
          "text": [
            "Collecting pyspark\n",
            "  Downloading pyspark-3.1.2.tar.gz (212.4 MB)\n",
            "\u001b[K     |████████████████████████████████| 212.4 MB 62 kB/s \n",
            "\u001b[?25hCollecting py4j==0.10.9\n",
            "  Downloading py4j-0.10.9-py2.py3-none-any.whl (198 kB)\n",
            "\u001b[K     |████████████████████████████████| 198 kB 68.7 MB/s \n",
            "\u001b[?25hBuilding wheels for collected packages: pyspark\n",
            "  Building wheel for pyspark (setup.py) ... \u001b[?25l\u001b[?25hdone\n",
            "  Created wheel for pyspark: filename=pyspark-3.1.2-py2.py3-none-any.whl size=212880768 sha256=e15f9381ea04124abab3a613d96afb48c78b3190a4d1ca55009de60b750216f4\n",
            "  Stored in directory: /root/.cache/pip/wheels/a5/0a/c1/9561f6fecb759579a7d863dcd846daaa95f598744e71b02c77\n",
            "Successfully built pyspark\n",
            "Installing collected packages: py4j, pyspark\n",
            "Successfully installed py4j-0.10.9 pyspark-3.1.2\n"
          ]
        }
      ]
    },
    {
      "cell_type": "code",
      "metadata": {
        "id": "mpK441TMlzRV"
      },
      "source": [
        "import pyspark\n",
        "from pyspark.sql import SparkSession\n",
        "from pyspark.sql.window import Window\n",
        "import pyspark.sql.functions as F"
      ],
      "execution_count": 31,
      "outputs": []
    },
    {
      "cell_type": "code",
      "metadata": {
        "id": "GK0Cenm4lzPO"
      },
      "source": [
        "spark = SparkSession.builder\\\n",
        "        .master(\"local\")\\\n",
        "        .appName(\"Colab\")\\\n",
        "        .config('spark.ui.port', '4050')\\\n",
        "        .getOrCreate()"
      ],
      "execution_count": 6,
      "outputs": []
    },
    {
      "cell_type": "code",
      "metadata": {
        "colab": {
          "base_uri": "https://localhost:8080/"
        },
        "id": "wxKKNIYGlzM3",
        "outputId": "178e99e4-667e-49bb-a7bd-5b868237d5c0"
      },
      "source": [
        "df = spark.read.csv('players_21.csv', inferSchema = True, header = True)\n",
        "df.show(10)"
      ],
      "execution_count": 7,
      "outputs": [
        {
          "output_type": "stream",
          "name": "stdout",
          "text": [
            "+---------+--------------------+-----------------+--------------------+---+----------+---------+---------+-----------+-------------------+--------------------+-----------+-------+---------+---------+--------+----------------+--------------+------------------------+---------+-----------+-------------+--------------------+---------+------------------+--------------------+-------------+------------------+-----------+----------+--------------------+---------------+--------------------+----+--------+-------+---------+---------+------+---------+-----------+----------+-----------+--------+--------------+--------------------+------------------+-------------------+--------------------------+-----------------------+-----------------+---------------+-----------+-----------------+------------------+------------------+---------------------+---------------------+----------------+------------------+----------------+----------------+-------------+-------------+--------------+----------------+--------------------+-----------------------+---------------------+----------------+-------------------+-------------------+-----------------+-------------------------+------------------------+------------------+--------------------+-------------------+-----------------------+--------------------+----+----+----+----+----+----+----+----+----+----+----+----+----+----+----+----+----+----+----+----+----+----+----+----+----+----+\n",
            "|sofifa_id|          player_url|       short_name|           long_name|age|       dob|height_cm|weight_kg|nationality|          club_name|         league_name|league_rank|overall|potential|value_eur|wage_eur|player_positions|preferred_foot|international_reputation|weak_foot|skill_moves|    work_rate|           body_type|real_face|release_clause_eur|         player_tags|team_position|team_jersey_number|loaned_from|    joined|contract_valid_until|nation_position|nation_jersey_number|pace|shooting|passing|dribbling|defending|physic|gk_diving|gk_handling|gk_kicking|gk_reflexes|gk_speed|gk_positioning|       player_traits|attacking_crossing|attacking_finishing|attacking_heading_accuracy|attacking_short_passing|attacking_volleys|skill_dribbling|skill_curve|skill_fk_accuracy|skill_long_passing|skill_ball_control|movement_acceleration|movement_sprint_speed|movement_agility|movement_reactions|movement_balance|power_shot_power|power_jumping|power_stamina|power_strength|power_long_shots|mentality_aggression|mentality_interceptions|mentality_positioning|mentality_vision|mentality_penalties|mentality_composure|defending_marking|defending_standing_tackle|defending_sliding_tackle|goalkeeping_diving|goalkeeping_handling|goalkeeping_kicking|goalkeeping_positioning|goalkeeping_reflexes|  ls|  st|  rs|  lw|  lf|  cf|  rf|  rw| lam| cam| ram|  lm| lcm|  cm| rcm|  rm| lwb| ldm| cdm| rdm| rwb|  lb| lcb|  cb| rcb|  rb|\n",
            "+---------+--------------------+-----------------+--------------------+---+----------+---------+---------+-----------+-------------------+--------------------+-----------+-------+---------+---------+--------+----------------+--------------+------------------------+---------+-----------+-------------+--------------------+---------+------------------+--------------------+-------------+------------------+-----------+----------+--------------------+---------------+--------------------+----+--------+-------+---------+---------+------+---------+-----------+----------+-----------+--------+--------------+--------------------+------------------+-------------------+--------------------------+-----------------------+-----------------+---------------+-----------+-----------------+------------------+------------------+---------------------+---------------------+----------------+------------------+----------------+----------------+-------------+-------------+--------------+----------------+--------------------+-----------------------+---------------------+----------------+-------------------+-------------------+-----------------+-------------------------+------------------------+------------------+--------------------+-------------------+-----------------------+--------------------+----+----+----+----+----+----+----+----+----+----+----+----+----+----+----+----+----+----+----+----+----+----+----+----+----+----+\n",
            "|   158023|https://sofifa.co...|         L. Messi|Lionel Andrés Mes...| 33|1987-06-24|      170|       72|  Argentina|       FC Barcelona|Spain Primera Div...|          1|     93|       93| 67500000|  560000|      RW, ST, CF|          Left|                       5|        4|          4|   Medium/Low|               Messi|      Yes|         138400000|#Dribbler, #Dista...|          CAM|                10|       null|2004-07-01|                2021|             RW|                  10|  85|      92|     91|       95|       38|    65|     null|       null|      null|       null|    null|          null|Finesse Shot, Lon...|                85|                 95|                        70|                     91|               88|             96|         93|               94|                91|                96|                   91|                   80|              91|                94|              95|              86|           68|           72|            69|              94|                  44|                     40|                   93|              95|                 75|                 96|             null|                       35|                      24|                 6|                  11|                 15|                     14|                   8|89+3|89+3|89+3|92+0|93+0|93+0|93+0|92+0|93+0|93+0|93+0|91+2|87+3|87+3|87+3|91+2|66+3|65+3|65+3|65+3|66+3|62+3|52+3|52+3|52+3|62+3|\n",
            "|    20801|https://sofifa.co...|Cristiano Ronaldo|Cristiano Ronaldo...| 35|1985-02-05|      187|       83|   Portugal|           Juventus|     Italian Serie A|          1|     92|       92| 46000000|  220000|          ST, LW|         Right|                       5|        4|          5|     High/Low|          C. Ronaldo|      Yes|          75900000|#Aerial Threat, #...|           LS|                 7|       null|2018-07-10|                2022|             LS|                   7|  89|      93|     81|       89|       35|    77|     null|       null|      null|       null|    null|          null|Power Free-Kick, ...|                84|                 95|                        90|                     82|               86|             88|         81|               76|                77|                92|                   87|                   91|              87|                95|              71|              94|           95|           84|            78|              93|                  63|                     29|                   95|              82|                 84|                 95|             null|                       32|                      24|                 7|                  11|                 15|                     14|                  11|91+1|91+1|91+1|89+0|91+0|91+0|91+0|89+0|88+3|88+3|88+3|88+3|81+3|81+3|81+3|88+3|65+3|61+3|61+3|61+3|65+3|61+3|54+3|54+3|54+3|61+3|\n",
            "|   200389|https://sofifa.co...|         J. Oblak|           Jan Oblak| 27|1993-01-07|      188|       87|   Slovenia|    Atlético Madrid|Spain Primera Div...|          1|     91|       93| 75000000|  125000|              GK|         Right|                       3|        3|          1|Medium/Medium|PLAYER_BODY_TYPE_259|      Yes|         159400000|                null|           GK|                13|       null|2014-07-16|                2023|             GK|                   1|null|    null|   null|     null|     null|  null|       87|         92|        78|         90|      52|            90|GK Long Throw, Co...|                13|                 11|                        15|                     43|               13|             12|         13|               14|                40|                30|                   43|                   60|              67|                88|              49|              59|           78|           41|            78|              12|                  34|                     19|                   11|              65|                 11|                 68|             null|                       12|                      18|                87|                  92|                 78|                     90|                  90|33+3|33+3|33+3|32+0|35+0|35+0|35+0|32+0|38+3|38+3|38+3|35+3|38+3|38+3|38+3|35+3|32+3|36+3|36+3|36+3|32+3|32+3|33+3|33+3|33+3|32+3|\n",
            "|   188545|https://sofifa.co...|   R. Lewandowski|  Robert Lewandowski| 31|1988-08-21|      184|       80|     Poland|  FC Bayern München|German 1. Bundesliga|          1|     91|       91| 80000000|  240000|              ST|         Right|                       4|        4|          4|  High/Medium|PLAYER_BODY_TYPE_276|      Yes|         132000000|#Distance Shooter...|           ST|                 9|       null|2014-07-01|                2023|           null|                null|  78|      91|     78|       85|       43|    82|     null|       null|      null|       null|    null|          null|Solid Player, Fin...|                71|                 94|                        85|                     84|               89|             85|         79|               85|                70|                88|                   77|                   78|              77|                93|              82|              89|           84|           76|            86|              85|                  81|                     49|                   94|              79|                 88|                 88|             null|                       42|                      19|                15|                   6|                 12|                      8|                  10|89+2|89+2|89+2|85+0|87+0|87+0|87+0|85+0|85+3|85+3|85+3|83+3|79+3|79+3|79+3|83+3|64+3|65+3|65+3|65+3|64+3|61+3|60+3|60+3|60+3|61+3|\n",
            "|   190871|https://sofifa.co...|        Neymar Jr|Neymar da Silva S...| 28|1992-02-05|      175|       68|     Brazil|Paris Saint-Germain|      French Ligue 1|          1|     91|       91| 90000000|  270000|         LW, CAM|         Right|                       5|        5|          5|  High/Medium|              Neymar|      Yes|         166500000|#Speedster, #Drib...|           LW|                10|       null|2017-08-03|                2022|           null|                null|  91|      85|     86|       94|       36|    59|     null|       null|      null|       null|    null|          null|Injury Prone, Fla...|                85|                 87|                        62|                     87|               87|             95|         88|               89|                81|                95|                   94|                   89|              96|                91|              83|              80|           62|           81|            50|              84|                  51|                     36|                   87|              90|                 92|                 93|             null|                       30|                      29|                 9|                   9|                 15|                     15|                  11|84+3|84+3|84+3|90+0|89+0|89+0|89+0|90+0|90+1|90+1|90+1|90+1|83+3|83+3|83+3|90+1|67+3|62+3|62+3|62+3|67+3|62+3|49+3|49+3|49+3|62+3|\n",
            "|   192985|https://sofifa.co...|     K. De Bruyne|     Kevin De Bruyne| 29|1991-06-28|      181|       70|    Belgium|    Manchester City|English Premier L...|          1|     91|       91| 87000000|  370000|         CAM, CM|         Right|                       4|        5|          4|    High/High|PLAYER_BODY_TYPE_321|      Yes|         161000000|#Dribbler, #Playm...|          RCM|                17|       null|2015-08-30|                2023|            RCM|                   7|  76|      86|     93|       88|       64|    78|     null|       null|      null|       null|    null|          null|Injury Prone, Lea...|                94|                 82|                        55|                     94|               82|             88|         85|               83|                93|                92|                   77|                   76|              78|                91|              76|              91|           63|           89|            74|              91|                  76|                     66|                   88|              94|                 84|                 91|             null|                       65|                      53|                15|                  13|                  5|                     10|                  13|83+3|83+3|83+3|88+0|88+0|88+0|88+0|88+0|89+2|89+2|89+2|89+2|89+2|89+2|89+2|89+2|79+3|80+3|80+3|80+3|79+3|75+3|69+3|69+3|69+3|75+3|\n",
            "|   231747|https://sofifa.co...|        K. Mbappé|Kylian Mbappé Lottin| 21|1998-12-20|      178|       73|     France|Paris Saint-Germain|      French Ligue 1|          1|     90|       95|105500000|  160000|      ST, LW, RW|         Right|                       3|        4|          5|     High/Low|PLAYER_BODY_TYPE_343|      Yes|         203100000|#Speedster, #Drib...|           LS|                 7|       null|2018-07-01|                2022|             RM|                  10|  96|      86|     78|       91|       39|    76|     null|       null|      null|       null|    null|          null|Finesse Shot, Fla...|                78|                 91|                        73|                     83|               83|             92|         79|               63|                70|                90|                   96|                   96|              92|                92|              82|              86|           77|           86|            76|              79|                  62|                     38|                   91|              80|                 70|                 84|             null|                       34|                      32|                13|                   5|                  7|                     11|                   6|88+3|88+3|88+3|89+0|89+0|89+0|89+0|89+0|87+3|87+3|87+3|87+3|79+3|79+3|79+3|87+3|67+3|63+3|63+3|63+3|67+3|63+3|55+3|55+3|55+3|63+3|\n",
            "|   192448|https://sofifa.co...|    M. ter Stegen|Marc-André ter St...| 28|1992-04-30|      187|       85|    Germany|       FC Barcelona|Spain Primera Div...|          1|     90|       93| 69500000|  260000|              GK|         Right|                       3|        4|          1|Medium/Medium|PLAYER_BODY_TYPE_262|      Yes|         147700000|                null|           GK|                 1|       null|2014-07-01|                2022|            SUB|                  22|null|    null|   null|     null|     null|  null|       88|         85|        88|         90|      45|            88|Rushes Out Of Goa...|                18|                 14|                        11|                     61|               14|             21|         18|               12|                63|                30|                   38|                   50|              37|                86|              43|              66|           79|           35|            78|              10|                  43|                     22|                   11|              70|                 25|                 70|             null|                       13|                      10|                88|                  85|                 88|                     88|                  90|35+3|35+3|35+3|34+0|38+0|38+0|38+0|34+0|42+3|42+3|42+3|39+3|45+3|45+3|45+3|39+3|33+3|41+3|41+3|41+3|33+3|31+3|33+3|33+3|33+3|31+3|\n",
            "|   203376|https://sofifa.co...|      V. van Dijk|     Virgil van Dijk| 28|1991-07-08|      193|       92|Netherlands|          Liverpool|English Premier L...|          1|     90|       91| 75500000|  210000|              CB|         Right|                       3|        3|          2|Medium/Medium|PLAYER_BODY_TYPE_314|      Yes|         145300000|#Tackling, #Tacti...|          LCB|                 4|       null|2018-01-01|                2023|            LCB|                   4|  76|      60|     71|       71|       91|    86|     null|       null|      null|       null|    null|          null|Solid Player, Lea...|                53|                 52|                        87|                     79|               45|             70|         60|               70|                86|                77|                   72|                   79|              61|                89|              53|              81|           90|           75|            92|              64|                  83|                     90|                   47|              65|                 62|                 90|             null|                       93|                      86|                13|                  10|                 13|                     11|                  11|70+3|70+3|70+3|68+0|69+0|69+0|69+0|68+0|70+3|70+3|70+3|70+3|76+3|76+3|76+3|70+3|80+3|85+3|85+3|85+3|80+3|82+3|89+2|89+2|89+2|82+3|\n",
            "|   212831|https://sofifa.co...|          Alisson|Alisson Ramsés Be...| 27|1992-10-02|      191|       91|     Brazil|          Liverpool|English Premier L...|          1|     90|       91| 62500000|  160000|              GK|         Right|                       3|        3|          1|Medium/Medium|PLAYER_BODY_TYPE_312|      Yes|         120300000|                null|           GK|                 1|       null|2018-07-19|                2024|           null|                null|null|    null|   null|     null|     null|  null|       86|         88|        85|         89|      51|            91|GK Long Throw, Ru...|                17|                 13|                        19|                     45|               20|             27|         19|               18|                44|                30|                   56|                   47|              40|                88|              37|              64|           52|           32|            78|              14|                  27|                     11|                   13|              66|                 23|                 65|             null|                       19|                      16|                86|                  88|                 85|                     91|                  89|36+3|36+3|36+3|35+0|38+0|38+0|38+0|35+0|40+3|40+3|40+3|38+3|40+3|40+3|40+3|38+3|31+3|35+3|35+3|35+3|31+3|30+3|30+3|30+3|30+3|30+3|\n",
            "+---------+--------------------+-----------------+--------------------+---+----------+---------+---------+-----------+-------------------+--------------------+-----------+-------+---------+---------+--------+----------------+--------------+------------------------+---------+-----------+-------------+--------------------+---------+------------------+--------------------+-------------+------------------+-----------+----------+--------------------+---------------+--------------------+----+--------+-------+---------+---------+------+---------+-----------+----------+-----------+--------+--------------+--------------------+------------------+-------------------+--------------------------+-----------------------+-----------------+---------------+-----------+-----------------+------------------+------------------+---------------------+---------------------+----------------+------------------+----------------+----------------+-------------+-------------+--------------+----------------+--------------------+-----------------------+---------------------+----------------+-------------------+-------------------+-----------------+-------------------------+------------------------+------------------+--------------------+-------------------+-----------------------+--------------------+----+----+----+----+----+----+----+----+----+----+----+----+----+----+----+----+----+----+----+----+----+----+----+----+----+----+\n",
            "only showing top 10 rows\n",
            "\n"
          ]
        }
      ]
    },
    {
      "cell_type": "code",
      "metadata": {
        "colab": {
          "base_uri": "https://localhost:8080/"
        },
        "id": "a9f86SntmLzs",
        "outputId": "5a4759d1-24a9-488c-f472-f9eb95fbf7ae"
      },
      "source": [
        "df.printSchema()"
      ],
      "execution_count": 8,
      "outputs": [
        {
          "output_type": "stream",
          "name": "stdout",
          "text": [
            "root\n",
            " |-- sofifa_id: integer (nullable = true)\n",
            " |-- player_url: string (nullable = true)\n",
            " |-- short_name: string (nullable = true)\n",
            " |-- long_name: string (nullable = true)\n",
            " |-- age: integer (nullable = true)\n",
            " |-- dob: string (nullable = true)\n",
            " |-- height_cm: integer (nullable = true)\n",
            " |-- weight_kg: integer (nullable = true)\n",
            " |-- nationality: string (nullable = true)\n",
            " |-- club_name: string (nullable = true)\n",
            " |-- league_name: string (nullable = true)\n",
            " |-- league_rank: integer (nullable = true)\n",
            " |-- overall: integer (nullable = true)\n",
            " |-- potential: integer (nullable = true)\n",
            " |-- value_eur: integer (nullable = true)\n",
            " |-- wage_eur: integer (nullable = true)\n",
            " |-- player_positions: string (nullable = true)\n",
            " |-- preferred_foot: string (nullable = true)\n",
            " |-- international_reputation: integer (nullable = true)\n",
            " |-- weak_foot: integer (nullable = true)\n",
            " |-- skill_moves: integer (nullable = true)\n",
            " |-- work_rate: string (nullable = true)\n",
            " |-- body_type: string (nullable = true)\n",
            " |-- real_face: string (nullable = true)\n",
            " |-- release_clause_eur: integer (nullable = true)\n",
            " |-- player_tags: string (nullable = true)\n",
            " |-- team_position: string (nullable = true)\n",
            " |-- team_jersey_number: integer (nullable = true)\n",
            " |-- loaned_from: string (nullable = true)\n",
            " |-- joined: string (nullable = true)\n",
            " |-- contract_valid_until: integer (nullable = true)\n",
            " |-- nation_position: string (nullable = true)\n",
            " |-- nation_jersey_number: integer (nullable = true)\n",
            " |-- pace: integer (nullable = true)\n",
            " |-- shooting: integer (nullable = true)\n",
            " |-- passing: integer (nullable = true)\n",
            " |-- dribbling: integer (nullable = true)\n",
            " |-- defending: integer (nullable = true)\n",
            " |-- physic: integer (nullable = true)\n",
            " |-- gk_diving: integer (nullable = true)\n",
            " |-- gk_handling: integer (nullable = true)\n",
            " |-- gk_kicking: integer (nullable = true)\n",
            " |-- gk_reflexes: integer (nullable = true)\n",
            " |-- gk_speed: integer (nullable = true)\n",
            " |-- gk_positioning: integer (nullable = true)\n",
            " |-- player_traits: string (nullable = true)\n",
            " |-- attacking_crossing: integer (nullable = true)\n",
            " |-- attacking_finishing: integer (nullable = true)\n",
            " |-- attacking_heading_accuracy: integer (nullable = true)\n",
            " |-- attacking_short_passing: integer (nullable = true)\n",
            " |-- attacking_volleys: integer (nullable = true)\n",
            " |-- skill_dribbling: integer (nullable = true)\n",
            " |-- skill_curve: integer (nullable = true)\n",
            " |-- skill_fk_accuracy: integer (nullable = true)\n",
            " |-- skill_long_passing: integer (nullable = true)\n",
            " |-- skill_ball_control: integer (nullable = true)\n",
            " |-- movement_acceleration: integer (nullable = true)\n",
            " |-- movement_sprint_speed: integer (nullable = true)\n",
            " |-- movement_agility: integer (nullable = true)\n",
            " |-- movement_reactions: integer (nullable = true)\n",
            " |-- movement_balance: integer (nullable = true)\n",
            " |-- power_shot_power: integer (nullable = true)\n",
            " |-- power_jumping: integer (nullable = true)\n",
            " |-- power_stamina: integer (nullable = true)\n",
            " |-- power_strength: integer (nullable = true)\n",
            " |-- power_long_shots: integer (nullable = true)\n",
            " |-- mentality_aggression: integer (nullable = true)\n",
            " |-- mentality_interceptions: integer (nullable = true)\n",
            " |-- mentality_positioning: integer (nullable = true)\n",
            " |-- mentality_vision: integer (nullable = true)\n",
            " |-- mentality_penalties: integer (nullable = true)\n",
            " |-- mentality_composure: integer (nullable = true)\n",
            " |-- defending_marking: string (nullable = true)\n",
            " |-- defending_standing_tackle: integer (nullable = true)\n",
            " |-- defending_sliding_tackle: integer (nullable = true)\n",
            " |-- goalkeeping_diving: integer (nullable = true)\n",
            " |-- goalkeeping_handling: integer (nullable = true)\n",
            " |-- goalkeeping_kicking: integer (nullable = true)\n",
            " |-- goalkeeping_positioning: integer (nullable = true)\n",
            " |-- goalkeeping_reflexes: integer (nullable = true)\n",
            " |-- ls: string (nullable = true)\n",
            " |-- st: string (nullable = true)\n",
            " |-- rs: string (nullable = true)\n",
            " |-- lw: string (nullable = true)\n",
            " |-- lf: string (nullable = true)\n",
            " |-- cf: string (nullable = true)\n",
            " |-- rf: string (nullable = true)\n",
            " |-- rw: string (nullable = true)\n",
            " |-- lam: string (nullable = true)\n",
            " |-- cam: string (nullable = true)\n",
            " |-- ram: string (nullable = true)\n",
            " |-- lm: string (nullable = true)\n",
            " |-- lcm: string (nullable = true)\n",
            " |-- cm: string (nullable = true)\n",
            " |-- rcm: string (nullable = true)\n",
            " |-- rm: string (nullable = true)\n",
            " |-- lwb: string (nullable = true)\n",
            " |-- ldm: string (nullable = true)\n",
            " |-- cdm: string (nullable = true)\n",
            " |-- rdm: string (nullable = true)\n",
            " |-- rwb: string (nullable = true)\n",
            " |-- lb: string (nullable = true)\n",
            " |-- lcb: string (nullable = true)\n",
            " |-- cb: string (nullable = true)\n",
            " |-- rcb: string (nullable = true)\n",
            " |-- rb: string (nullable = true)\n",
            "\n"
          ]
        }
      ]
    },
    {
      "cell_type": "markdown",
      "metadata": {
        "id": "ZByCHy1kcW07"
      },
      "source": [
        "1. La tabla de salida debe contener las siguientes columnas: short_name, long_name, age, height_cm, weight_kg, nationality, club_name, overall, potential, team_position"
      ]
    },
    {
      "cell_type": "code",
      "metadata": {
        "colab": {
          "base_uri": "https://localhost:8080/"
        },
        "id": "6WqDXRI4mLxw",
        "outputId": "8ac0b4d8-1071-4778-e692-b5fb3c103718"
      },
      "source": [
        "columnas = [\"short_name\", \"long_name\", \"age\", \"height_cm\", \"weight_kg\", \"nationality\", \"club_name\", \"overall\", \"potential\", \"team_position\"]\n",
        "df = df.select(columnas)\n",
        "df.show(10)"
      ],
      "execution_count": 9,
      "outputs": [
        {
          "output_type": "stream",
          "name": "stdout",
          "text": [
            "+-----------------+--------------------+---+---------+---------+-----------+-------------------+-------+---------+-------------+\n",
            "|       short_name|           long_name|age|height_cm|weight_kg|nationality|          club_name|overall|potential|team_position|\n",
            "+-----------------+--------------------+---+---------+---------+-----------+-------------------+-------+---------+-------------+\n",
            "|         L. Messi|Lionel Andrés Mes...| 33|      170|       72|  Argentina|       FC Barcelona|     93|       93|          CAM|\n",
            "|Cristiano Ronaldo|Cristiano Ronaldo...| 35|      187|       83|   Portugal|           Juventus|     92|       92|           LS|\n",
            "|         J. Oblak|           Jan Oblak| 27|      188|       87|   Slovenia|    Atlético Madrid|     91|       93|           GK|\n",
            "|   R. Lewandowski|  Robert Lewandowski| 31|      184|       80|     Poland|  FC Bayern München|     91|       91|           ST|\n",
            "|        Neymar Jr|Neymar da Silva S...| 28|      175|       68|     Brazil|Paris Saint-Germain|     91|       91|           LW|\n",
            "|     K. De Bruyne|     Kevin De Bruyne| 29|      181|       70|    Belgium|    Manchester City|     91|       91|          RCM|\n",
            "|        K. Mbappé|Kylian Mbappé Lottin| 21|      178|       73|     France|Paris Saint-Germain|     90|       95|           LS|\n",
            "|    M. ter Stegen|Marc-André ter St...| 28|      187|       85|    Germany|       FC Barcelona|     90|       93|           GK|\n",
            "|      V. van Dijk|     Virgil van Dijk| 28|      193|       92|Netherlands|          Liverpool|     90|       91|          LCB|\n",
            "|          Alisson|Alisson Ramsés Be...| 27|      191|       91|     Brazil|          Liverpool|     90|       91|           GK|\n",
            "+-----------------+--------------------+---+---------+---------+-----------+-------------------+-------+---------+-------------+\n",
            "only showing top 10 rows\n",
            "\n"
          ]
        }
      ]
    },
    {
      "cell_type": "code",
      "metadata": {
        "id": "cLWTP2Tx2aTU"
      },
      "source": [
        "def selecciona_columnas(df1):\n",
        "\n",
        "  columnas = [\"short_name\", \"long_name\", \"age\", \"height_cm\", \"weight_kg\", \"nationality\", \"club_name\", \"overall\", \"potential\", \"team_position\"]\n",
        "  df1 = df1.select(columnas)\n",
        "\n",
        "  return df1\n",
        "\n",
        "df = selecciona_columnas(df)"
      ],
      "execution_count": 10,
      "outputs": []
    },
    {
      "cell_type": "markdown",
      "metadata": {
        "id": "CTugbVjFg79I"
      },
      "source": [
        "2. Agregar una columna player_cat que responderá a la siguiente regla (rank over Window particionada por nationality y team_position y ordenada por overall):\n"
      ]
    },
    {
      "cell_type": "code",
      "metadata": {
        "colab": {
          "base_uri": "https://localhost:8080/"
        },
        "id": "7bWGsEbPmkD5",
        "outputId": "1c6e4832-a862-4a2b-e533-d1c860c198af"
      },
      "source": [
        "w = Window.partitionBy(\"nationality\",\"team_position\")\n",
        "w"
      ],
      "execution_count": 11,
      "outputs": [
        {
          "output_type": "execute_result",
          "data": {
            "text/plain": [
              "<pyspark.sql.window.WindowSpec at 0x7f63b9b36650>"
            ]
          },
          "metadata": {},
          "execution_count": 11
        }
      ]
    },
    {
      "cell_type": "code",
      "metadata": {
        "colab": {
          "base_uri": "https://localhost:8080/"
        },
        "id": "JLibnFMYmkBo",
        "outputId": "14e3dfb0-3dbd-4333-b587-711a859ff41d"
      },
      "source": [
        "df = df.withColumn('p', F.dense_rank().over(w.orderBy(F.col('overall'))))\n",
        "df.show()"
      ],
      "execution_count": 12,
      "outputs": [
        {
          "output_type": "stream",
          "name": "stdout",
          "text": [
            "+---------------+--------------------+---+---------+---------+-----------+-------------------+-------+---------+-------------+---+\n",
            "|     short_name|           long_name|age|height_cm|weight_kg|nationality|          club_name|overall|potential|team_position|  p|\n",
            "+---------------+--------------------+---+---------+---------+-----------+-------------------+-------+---------+-------------+---+\n",
            "|  Luiz Henrique|Luiz Henrique Bes...| 23|      171|       64|     Brazil|      Moreirense FC|     66|       72|           RW|  1|\n",
            "|  Ricardo Lopes|Ricardo Lopes Per...| 29|      183|       74|     Brazil|   Shanghai SIPG FC|     71|       71|           RW|  2|\n",
            "|Adrián Burnabão|Adrián Guto Negrã...| 24|      176|       73|     Brazil|           Botafogo|     71|       71|           RW|  2|\n",
            "|       Lourency|Lourency do Nasci...| 24|      174|       74|     Brazil|     Gil Vicente FC|     72|       77|           RW|  3|\n",
            "|      Renatinho|Renato Ribeiro Ca...| 31|      167|       68|     Brazil|   Guangzhou R&F FC|     73|       73|           RW|  4|\n",
            "| Diego Oliveira|Diego Queiroz de ...| 30|      179|       78|     Brazil|           FC Tokyo|     73|       73|           RW|  4|\n",
            "|   Bruno Tabata|Bruno Vinícius So...| 23|      178|       68|     Brazil|    Portimonense SC|     75|       83|           RW|  5|\n",
            "|   Elildo Petri|Elias Thiago Petr...| 24|      172|       71|     Brazil|          Palmeiras|     75|       75|           RW|  5|\n",
            "|  Guilson Paiva|G. Pierre Paiva S...| 24|      173|       72|     Brazil|           Flamengo|     78|       78|           RW|  6|\n",
            "|        Rodrygo|Rodrygo Silva de ...| 19|      174|       64|     Brazil|        Real Madrid|     79|       90|           RW|  7|\n",
            "|       Raphinha|Raphael Dias Belloli| 23|      176|       68|     Brazil|   Stade Rennais FC|     81|       85|           RW|  8|\n",
            "|Ronaldo Cabrais|Ronaldo Jailson C...| 28|      177|       75|     Brazil|             Grêmio|     83|       83|           RW|  9|\n",
            "|    C. Eriksson|  Carljohan Eriksson| 25|      191|       81|    Finland|        Mjällby AIF|     61|       67|           GK|  1|\n",
            "|W. Jääskeläinen|William Jääskeläinen| 21|      183|       73|    Finland|    Crewe Alexandra|     63|       73|           GK|  2|\n",
            "|    A. Jaakkola|      Anssi Jaakkola| 33|      193|       88|    Finland|     Bristol Rovers|     67|       67|           GK|  3|\n",
            "|     J. Joronen|       Jesse Joronen| 27|      197|       89|    Finland|            Brescia|     75|       77|           GK|  4|\n",
            "|    L. Hrádecký|      Lukáš Hrádecký| 30|      192|       82|    Finland|Bayer 04 Leverkusen|     83|       83|           GK|  5|\n",
            "|        J. Kade|         Julius Kade| 21|      182|       67|    Germany|  SG Dynamo Dresden|     61|       75|          RCM|  1|\n",
            "|      G. Sağlam|       Görkem Sağlam| 22|      178|       72|    Germany|          Willem II|     62|       71|          RCM|  2|\n",
            "|      L. Jensen|         Leon Jensen| 23|      175|       70|    Germany|        FSV Zwickau|     62|       69|          RCM|  2|\n",
            "+---------------+--------------------+---+---------+---------+-----------+-------------------+-------+---------+-------------+---+\n",
            "only showing top 20 rows\n",
            "\n"
          ]
        }
      ]
    },
    {
      "cell_type": "code",
      "metadata": {
        "colab": {
          "base_uri": "https://localhost:8080/"
        },
        "id": "ISnhTuYgmj_n",
        "outputId": "7f27a613-7972-4561-ebcd-8e807e33bbbd"
      },
      "source": [
        "df = df.withColumn('player_cat',F.when(F.col('p').isin('1'),'A')\n",
        "                       .when(F.col('p').isin('2'),'B')\n",
        "                       .when(F.col('p').isin('3'),'C').otherwise('D')\n",
        "                      )\n",
        "df.show()"
      ],
      "execution_count": 13,
      "outputs": [
        {
          "output_type": "stream",
          "name": "stdout",
          "text": [
            "+---------------+--------------------+---+---------+---------+-----------+-------------------+-------+---------+-------------+---+----------+\n",
            "|     short_name|           long_name|age|height_cm|weight_kg|nationality|          club_name|overall|potential|team_position|  p|player_cat|\n",
            "+---------------+--------------------+---+---------+---------+-----------+-------------------+-------+---------+-------------+---+----------+\n",
            "|  Luiz Henrique|Luiz Henrique Bes...| 23|      171|       64|     Brazil|      Moreirense FC|     66|       72|           RW|  1|         A|\n",
            "|  Ricardo Lopes|Ricardo Lopes Per...| 29|      183|       74|     Brazil|   Shanghai SIPG FC|     71|       71|           RW|  2|         B|\n",
            "|Adrián Burnabão|Adrián Guto Negrã...| 24|      176|       73|     Brazil|           Botafogo|     71|       71|           RW|  2|         B|\n",
            "|       Lourency|Lourency do Nasci...| 24|      174|       74|     Brazil|     Gil Vicente FC|     72|       77|           RW|  3|         C|\n",
            "|      Renatinho|Renato Ribeiro Ca...| 31|      167|       68|     Brazil|   Guangzhou R&F FC|     73|       73|           RW|  4|         D|\n",
            "| Diego Oliveira|Diego Queiroz de ...| 30|      179|       78|     Brazil|           FC Tokyo|     73|       73|           RW|  4|         D|\n",
            "|   Bruno Tabata|Bruno Vinícius So...| 23|      178|       68|     Brazil|    Portimonense SC|     75|       83|           RW|  5|         D|\n",
            "|   Elildo Petri|Elias Thiago Petr...| 24|      172|       71|     Brazil|          Palmeiras|     75|       75|           RW|  5|         D|\n",
            "|  Guilson Paiva|G. Pierre Paiva S...| 24|      173|       72|     Brazil|           Flamengo|     78|       78|           RW|  6|         D|\n",
            "|        Rodrygo|Rodrygo Silva de ...| 19|      174|       64|     Brazil|        Real Madrid|     79|       90|           RW|  7|         D|\n",
            "|       Raphinha|Raphael Dias Belloli| 23|      176|       68|     Brazil|   Stade Rennais FC|     81|       85|           RW|  8|         D|\n",
            "|Ronaldo Cabrais|Ronaldo Jailson C...| 28|      177|       75|     Brazil|             Grêmio|     83|       83|           RW|  9|         D|\n",
            "|    C. Eriksson|  Carljohan Eriksson| 25|      191|       81|    Finland|        Mjällby AIF|     61|       67|           GK|  1|         A|\n",
            "|W. Jääskeläinen|William Jääskeläinen| 21|      183|       73|    Finland|    Crewe Alexandra|     63|       73|           GK|  2|         B|\n",
            "|    A. Jaakkola|      Anssi Jaakkola| 33|      193|       88|    Finland|     Bristol Rovers|     67|       67|           GK|  3|         C|\n",
            "|     J. Joronen|       Jesse Joronen| 27|      197|       89|    Finland|            Brescia|     75|       77|           GK|  4|         D|\n",
            "|    L. Hrádecký|      Lukáš Hrádecký| 30|      192|       82|    Finland|Bayer 04 Leverkusen|     83|       83|           GK|  5|         D|\n",
            "|        J. Kade|         Julius Kade| 21|      182|       67|    Germany|  SG Dynamo Dresden|     61|       75|          RCM|  1|         A|\n",
            "|      G. Sağlam|       Görkem Sağlam| 22|      178|       72|    Germany|          Willem II|     62|       71|          RCM|  2|         B|\n",
            "|      L. Jensen|         Leon Jensen| 23|      175|       70|    Germany|        FSV Zwickau|     62|       69|          RCM|  2|         B|\n",
            "+---------------+--------------------+---+---------+---------+-----------+-------------------+-------+---------+-------------+---+----------+\n",
            "only showing top 20 rows\n",
            "\n"
          ]
        }
      ]
    },
    {
      "cell_type": "code",
      "metadata": {
        "colab": {
          "base_uri": "https://localhost:8080/"
        },
        "id": "GwVCrSQBmLtT",
        "outputId": "117cfd9e-6939-4ca7-c593-2facf4d818a5"
      },
      "source": [
        "df = df.drop('p')\n",
        "df.show(10)"
      ],
      "execution_count": 14,
      "outputs": [
        {
          "output_type": "stream",
          "name": "stdout",
          "text": [
            "+---------------+--------------------+---+---------+---------+-----------+----------------+-------+---------+-------------+----------+\n",
            "|     short_name|           long_name|age|height_cm|weight_kg|nationality|       club_name|overall|potential|team_position|player_cat|\n",
            "+---------------+--------------------+---+---------+---------+-----------+----------------+-------+---------+-------------+----------+\n",
            "|  Luiz Henrique|Luiz Henrique Bes...| 23|      171|       64|     Brazil|   Moreirense FC|     66|       72|           RW|         A|\n",
            "|  Ricardo Lopes|Ricardo Lopes Per...| 29|      183|       74|     Brazil|Shanghai SIPG FC|     71|       71|           RW|         B|\n",
            "|Adrián Burnabão|Adrián Guto Negrã...| 24|      176|       73|     Brazil|        Botafogo|     71|       71|           RW|         B|\n",
            "|       Lourency|Lourency do Nasci...| 24|      174|       74|     Brazil|  Gil Vicente FC|     72|       77|           RW|         C|\n",
            "|      Renatinho|Renato Ribeiro Ca...| 31|      167|       68|     Brazil|Guangzhou R&F FC|     73|       73|           RW|         D|\n",
            "| Diego Oliveira|Diego Queiroz de ...| 30|      179|       78|     Brazil|        FC Tokyo|     73|       73|           RW|         D|\n",
            "|   Bruno Tabata|Bruno Vinícius So...| 23|      178|       68|     Brazil| Portimonense SC|     75|       83|           RW|         D|\n",
            "|   Elildo Petri|Elias Thiago Petr...| 24|      172|       71|     Brazil|       Palmeiras|     75|       75|           RW|         D|\n",
            "|  Guilson Paiva|G. Pierre Paiva S...| 24|      173|       72|     Brazil|        Flamengo|     78|       78|           RW|         D|\n",
            "|        Rodrygo|Rodrygo Silva de ...| 19|      174|       64|     Brazil|     Real Madrid|     79|       90|           RW|         D|\n",
            "+---------------+--------------------+---+---------+---------+-----------+----------------+-------+---------+-------------+----------+\n",
            "only showing top 10 rows\n",
            "\n"
          ]
        }
      ]
    },
    {
      "cell_type": "code",
      "metadata": {
        "id": "UCiO5AJhI67F"
      },
      "source": [
        "def agrega_player_cat(df1, column):\n",
        "\n",
        "  w = Window.partitionBy(\"nationality\",\"team_position\")\n",
        "  df1 = df1.withColumn('p', F.dense_rank().over(w.orderBy(F.col('overall'))))\n",
        "  columnas = [\"short_name\", \"long_name\", \"age\", \"height_cm\", \"weight_kg\", \"nationality\", \"club_name\", \"overall\", \"potential\", \"team_position\"]\n",
        "  df1 = df1.select(columnas)\n",
        "  df1 = df1.withColumn(column,F.when(F.col('p').isin('1'),'A')\n",
        "                       .when(F.col('p').isin('2'),'B')\n",
        "                       .when(F.col('p').isin('3'),'C').otherwise('D')\n",
        "                      )\n",
        "  df1 = df1.drop('p')\n",
        "\n",
        "  return df1"
      ],
      "execution_count": 32,
      "outputs": []
    },
    {
      "cell_type": "markdown",
      "metadata": {
        "id": "DaBbCoakov_m"
      },
      "source": [
        "3. Agregaremos una columna potential_vs_overall con la siguiente regla: \n",
        "* Columna potential dividida por la columna overall"
      ]
    },
    {
      "cell_type": "code",
      "metadata": {
        "colab": {
          "base_uri": "https://localhost:8080/"
        },
        "id": "h2t8Sjccovu_",
        "outputId": "7a96bbae-c8ec-46f9-f135-f254bf626b54"
      },
      "source": [
        "df = df.withColumn('potential_vs_overall', df['potential']/df['overall'])\n",
        "df.show(10)"
      ],
      "execution_count": 33,
      "outputs": [
        {
          "output_type": "stream",
          "name": "stdout",
          "text": [
            "+---------------+--------------------+---+---------+---------+-----------+----------------+-------+---------+-------------+----------+--------------------+\n",
            "|     short_name|           long_name|age|height_cm|weight_kg|nationality|       club_name|overall|potential|team_position|player_cat|potential_vs_overall|\n",
            "+---------------+--------------------+---+---------+---------+-----------+----------------+-------+---------+-------------+----------+--------------------+\n",
            "|  Luiz Henrique|Luiz Henrique Bes...| 23|      171|       64|     Brazil|   Moreirense FC|     66|       72|           RW|         A|  1.0909090909090908|\n",
            "|  Ricardo Lopes|Ricardo Lopes Per...| 29|      183|       74|     Brazil|Shanghai SIPG FC|     71|       71|           RW|         B|                 1.0|\n",
            "|Adrián Burnabão|Adrián Guto Negrã...| 24|      176|       73|     Brazil|        Botafogo|     71|       71|           RW|         B|                 1.0|\n",
            "|       Lourency|Lourency do Nasci...| 24|      174|       74|     Brazil|  Gil Vicente FC|     72|       77|           RW|         C|  1.0694444444444444|\n",
            "|      Renatinho|Renato Ribeiro Ca...| 31|      167|       68|     Brazil|Guangzhou R&F FC|     73|       73|           RW|         D|                 1.0|\n",
            "| Diego Oliveira|Diego Queiroz de ...| 30|      179|       78|     Brazil|        FC Tokyo|     73|       73|           RW|         D|                 1.0|\n",
            "|   Bruno Tabata|Bruno Vinícius So...| 23|      178|       68|     Brazil| Portimonense SC|     75|       83|           RW|         D|  1.1066666666666667|\n",
            "|   Elildo Petri|Elias Thiago Petr...| 24|      172|       71|     Brazil|       Palmeiras|     75|       75|           RW|         D|                 1.0|\n",
            "|  Guilson Paiva|G. Pierre Paiva S...| 24|      173|       72|     Brazil|        Flamengo|     78|       78|           RW|         D|                 1.0|\n",
            "|        Rodrygo|Rodrygo Silva de ...| 19|      174|       64|     Brazil|     Real Madrid|     79|       90|           RW|         D|   1.139240506329114|\n",
            "+---------------+--------------------+---+---------+---------+-----------+----------------+-------+---------+-------------+----------+--------------------+\n",
            "only showing top 10 rows\n",
            "\n"
          ]
        }
      ]
    },
    {
      "cell_type": "code",
      "metadata": {
        "id": "JALStf6-7E1E"
      },
      "source": [
        "def agrega_potential_vs_overall(df1):\n",
        "\n",
        "  df1 = df1.withColumn('potential_vs_overall', df1['potential']/df1['overall'])\n",
        "\n",
        "  return df1\n",
        "df = agrega_potential_vs_overall(df)"
      ],
      "execution_count": null,
      "outputs": []
    },
    {
      "cell_type": "markdown",
      "metadata": {
        "id": "RyZY_uZao5pZ"
      },
      "source": [
        "4. Filtraremos de acuerdo a las columnas player_cat y potential_vs_overall con las siguientes condiciones: \n",
        "* Si player_cat esta en los siguientes valores: A, B\n",
        "* Si player_cat es C y potential_vs_overall es superior a 1.15\n",
        "* Si player_cat es D y potential_vs_overall es superior a 1.25"
      ]
    },
    {
      "cell_type": "code",
      "metadata": {
        "colab": {
          "base_uri": "https://localhost:8080/"
        },
        "id": "nFPf3JCKovqP",
        "outputId": "14ac9ebf-1d6e-4804-bcc9-b24d427f9981"
      },
      "source": [
        "df.filter((F.col('player_cat').isin('A','B'))).show(10)"
      ],
      "execution_count": 16,
      "outputs": [
        {
          "output_type": "stream",
          "name": "stdout",
          "text": [
            "+---------------+--------------------+---+---------+---------+-----------+-----------------+-------+---------+-------------+----------+--------------------+\n",
            "|     short_name|           long_name|age|height_cm|weight_kg|nationality|        club_name|overall|potential|team_position|player_cat|potential_vs_overall|\n",
            "+---------------+--------------------+---+---------+---------+-----------+-----------------+-------+---------+-------------+----------+--------------------+\n",
            "|  Luiz Henrique|Luiz Henrique Bes...| 23|      171|       64|     Brazil|    Moreirense FC|     66|       72|           RW|         A|  1.0909090909090908|\n",
            "|  Ricardo Lopes|Ricardo Lopes Per...| 29|      183|       74|     Brazil| Shanghai SIPG FC|     71|       71|           RW|         B|                 1.0|\n",
            "|Adrián Burnabão|Adrián Guto Negrã...| 24|      176|       73|     Brazil|         Botafogo|     71|       71|           RW|         B|                 1.0|\n",
            "|    C. Eriksson|  Carljohan Eriksson| 25|      191|       81|    Finland|      Mjällby AIF|     61|       67|           GK|         A|   1.098360655737705|\n",
            "|W. Jääskeläinen|William Jääskeläinen| 21|      183|       73|    Finland|  Crewe Alexandra|     63|       73|           GK|         B|  1.1587301587301588|\n",
            "|        J. Kade|         Julius Kade| 21|      182|       67|    Germany|SG Dynamo Dresden|     61|       75|          RCM|         A|  1.2295081967213115|\n",
            "|      G. Sağlam|       Görkem Sağlam| 22|      178|       72|    Germany|        Willem II|     62|       71|          RCM|         B|  1.1451612903225807|\n",
            "|      L. Jensen|         Leon Jensen| 23|      175|       70|    Germany|      FSV Zwickau|     62|       69|          RCM|         B|  1.1129032258064515|\n",
            "|        L. Zigi|   Lawrence Ati Zigi| 23|      188|       83|      Ghana|    FC St. Gallen|     67|       77|           GK|         A|  1.1492537313432836|\n",
            "| I. Jóhannesson|Ísak Bergmann Jóh...| 17|      180|       67|    Iceland|   IFK Norrköping|     65|       81|          RCM|         A|  1.2461538461538462|\n",
            "+---------------+--------------------+---+---------+---------+-----------+-----------------+-------+---------+-------------+----------+--------------------+\n",
            "only showing top 10 rows\n",
            "\n"
          ]
        }
      ]
    },
    {
      "cell_type": "code",
      "metadata": {
        "colab": {
          "base_uri": "https://localhost:8080/"
        },
        "id": "i-HzQSEzpOu0",
        "outputId": "f5a3f683-3603-49d7-85e7-ad296311ca17"
      },
      "source": [
        "df.filter((F.col('player_cat').isin('C')) & \n",
        "          (F.col('potential_vs_overall')>1.15)\n",
        "          ).show(10)"
      ],
      "execution_count": 17,
      "outputs": [
        {
          "output_type": "stream",
          "name": "stdout",
          "text": [
            "+-----------------+--------------------+---+---------+---------+-----------+--------------------+-------+---------+-------------+----------+--------------------+\n",
            "|       short_name|           long_name|age|height_cm|weight_kg|nationality|           club_name|overall|potential|team_position|player_cat|potential_vs_overall|\n",
            "+-----------------+--------------------+---+---------+---------+-----------+--------------------+-------+---------+-------------+----------+--------------------+\n",
            "|       F. Hörberg|       Felix Hörberg| 21|      180|       74|     Sweden|       Östersunds FK|     64|       74|          RWB|         C|             1.15625|\n",
            "|B. Van Den Eynden|  Bas Van Den Eynden| 18|      186|       83|    Belgium|         KV Mechelen|     55|       73|          RES|         C|  1.3272727272727274|\n",
            "|    J. Schelfhout|    Jordy Schelfhout| 19|      184|       79|    Belgium|         KV Oostende|     55|       69|          RES|         C|  1.2545454545454546|\n",
            "|       L. Ritière|        Loïc Ritière| 18|      174|       64|    Belgium|         KV Kortrijk|     55|       69|          RES|         C|  1.2545454545454546|\n",
            "|        T. Glover|       Thomas Glover| 22|      190|       90|  Australia|   Melbourne City FC|     62|       72|           GK|         C|  1.1612903225806452|\n",
            "|        M. Šverko|        Marin Šverko| 22|      187|       81|    Croatia|   1. FC Saarbrücken|     60|       70|          SUB|         C|  1.1666666666666667|\n",
            "|          R. Pyke|         Rekeil Pyke| 22|      175|       65|    England|          Shrewsbury|     58|       67|           ST|         C|  1.1551724137931034|\n",
            "|       E. Navarro|Santiago Ezequiel...| 18|      178|       79|  Argentina|Club Atlético Hur...|     55|       75|          SUB|         C|  1.3636363636363635|\n",
            "|          R. Ruiz|Ramiro Ruiz Rodrí...| 20|      184|       76|  Argentina|    Atlético Tucumán|     55|       72|          SUB|         C|   1.309090909090909|\n",
            "|       M. Cornejo|Miguel Angel Corn...| 20|      175|       70|       Peru|        Alianza Lima|     53|       63|          SUB|         C|  1.1886792452830188|\n",
            "+-----------------+--------------------+---+---------+---------+-----------+--------------------+-------+---------+-------------+----------+--------------------+\n",
            "only showing top 10 rows\n",
            "\n"
          ]
        }
      ]
    },
    {
      "cell_type": "code",
      "metadata": {
        "colab": {
          "base_uri": "https://localhost:8080/"
        },
        "id": "RDuShwNwqIQA",
        "outputId": "5e3ff3cf-ff51-4924-f6fb-f69f0fcc38a9"
      },
      "source": [
        "df.filter((F.col('player_cat').isin('D')) & \n",
        "          (F.col('potential_vs_overall')>1.25)\n",
        "          ).show(10)"
      ],
      "execution_count": 18,
      "outputs": [
        {
          "output_type": "stream",
          "name": "stdout",
          "text": [
            "+-------------+--------------------+---+---------+---------+-----------+--------------------+-------+---------+-------------+----------+--------------------+\n",
            "|   short_name|           long_name|age|height_cm|weight_kg|nationality|           club_name|overall|potential|team_position|player_cat|potential_vs_overall|\n",
            "+-------------+--------------------+---+---------+---------+-----------+--------------------+-------+---------+-------------+----------+--------------------+\n",
            "|  A. Descotte|    Anthony Descotte| 16|      179|       75|    Belgium|Sporting de Charl...|     56|       79|          RES|         D|  1.4107142857142858|\n",
            "|M. Parmentier|   Mathéo Parmentier| 17|      186|       75|    Belgium|            KAA Gent|     56|       76|          RES|         D|  1.3571428571428572|\n",
            "|    T. Leysen|         Tobe Leysen| 18|      179|       83|    Belgium|            KRC Genk|     56|       75|          RES|         D|  1.3392857142857142|\n",
            "|S. Van Dessel|     Stan Van Dessel| 18|      169|       60|    Belgium|   Sint-Truidense VV|     56|       72|          RES|         D|  1.2857142857142858|\n",
            "|    N. Dailly|        Niklo Dailly| 18|      173|       65|    Belgium|         KV Mechelen|     56|       72|          RES|         D|  1.2857142857142858|\n",
            "|   S. Lammens|       Senne Lammens| 17|      193|       72|    Belgium|      Club Brugge KV|     57|       76|          RES|         D|  1.3333333333333333|\n",
            "|     S. Asoma|        Samuel Asoma| 17|      175|       68|    Belgium|      Club Brugge KV|     57|       76|          RES|         D|  1.3333333333333333|\n",
            "|    E. Sierra|Elias Sierra-Capp...| 18|      170|       63|    Belgium|            KRC Genk|     57|       74|          RES|         D|  1.2982456140350878|\n",
            "|  D. Lausberg|     Dragan Lausberg| 18|      185|       73|    Belgium|    Royal Antwerp FC|     57|       74|          RES|         D|  1.2982456140350878|\n",
            "|  M. Delanghe|     Maxime Delanghe| 19|      189|       80|    Belgium|                 PSV|     59|       79|          RES|         D|  1.3389830508474576|\n",
            "+-------------+--------------------+---+---------+---------+-----------+--------------------+-------+---------+-------------+----------+--------------------+\n",
            "only showing top 10 rows\n",
            "\n"
          ]
        }
      ]
    },
    {
      "cell_type": "code",
      "metadata": {
        "id": "QKcNOrI07btR"
      },
      "source": [
        "def filtrar_A_B(df1):\n",
        "  return df1.filter((F.col('player_cat').isin('A','B'))).show()\n",
        "\n",
        "def filtrar_C(df1):\n",
        "  return df1.filter((F.col('player_cat').isin('C')) & \n",
        "                    (F.col('potential_vs_overall')>1.15)\n",
        "                    ).show()\n",
        "\n",
        "def filtrar_D(df1):\n",
        "  return df1.filter((F.col('player_cat').isin('D')) & \n",
        "                    (F.col('potential_vs_overall')>1.25)\n",
        "                    ).show()"
      ],
      "execution_count": null,
      "outputs": []
    },
    {
      "cell_type": "markdown",
      "metadata": {
        "id": "1YUoR587pPYR"
      },
      "source": [
        "5. Agregar un parametro al archivo params que de ser 1 realice todos los pasos únicamente para los jugadores menores de 23 años y en caso de ser 0 que lo haga con todos los jugadores del dataset."
      ]
    },
    {
      "cell_type": "markdown",
      "metadata": {
        "id": "Auplze6xpdr6"
      },
      "source": [
        "6. Por favor escriba la tabla resultante de los pasos anteriores particionada por la columna nationality, la salida debe estar escrita en formato parquet y debe usarse el método coalese(1) para obtener solo un archivo por partición."
      ]
    },
    {
      "cell_type": "code",
      "metadata": {
        "id": "0y_bOM1ZKxM_"
      },
      "source": [
        "df.coalesce(1).write.save('/content/drive/MyDrive/Parquet/one_file', format='parquet', mode='append', partitionBy='nationality')"
      ],
      "execution_count": 30,
      "outputs": []
    },
    {
      "cell_type": "code",
      "metadata": {
        "id": "cgUup6JLN8YR"
      },
      "source": [
        "def escribe_tabla(df1):\n",
        "  return df1.coalesce(1).write.save('/content/drive/MyDrive/Parquet/one_file', format='parquet', mode='append', partitionBy='nationality')\n",
        "\n",
        "escribe_tabla(df)"
      ],
      "execution_count": null,
      "outputs": []
    }
  ]
}